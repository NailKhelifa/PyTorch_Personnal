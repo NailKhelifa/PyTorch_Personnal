{
 "cells": [
  {
   "cell_type": "markdown",
   "metadata": {},
   "source": [
    "## 0. Quelques mots sur les environnements virtuels. \n",
    "\n",
    "**Qu'est-ce-qu'un environnement virtuel ?**\n",
    "\n",
    "\n",
    "* *environnement virtuel* = espace isolé et autonome dans lequel vous pouvez installer des bibliothèques, des packages et des dépendances logicielles spécifiques à un projet sans affecter le système global de votre machine --> utile pour résoudre les problèmes de gestion des dépendances et garantir une isolation entre différents projets.\n",
    "\n",
    "* *idée* = créer un espace de travail indépendant où vous pouvez installer les versions spécifiques de bibliothèques et d'outils nécessaires à votre projet, sans affecter le reste de votre système -> permet d'éviter les conflits de versions et assure que chaque projet peut fonctionner avec les dépendances exactes dont il a besoin.\n",
    "\n",
    "**Avantages de conda dans un environnement virtuel ?**\n",
    "\n",
    "1. *Gestion des dépendances* : Conda gère les dépendances de manière efficace, en installant les packages et en résolvant automatiquement les conflits. Cela simplifie la gestion des environnements et assure la compatibilité entre les packages.\n",
    "\n",
    "2. *Environnements isolés* : Conda permet de créer des environnements virtuels isolés les uns des autres, ce qui signifie que les dépendances d'un projet n'interféreront pas avec celles d'un autre projet.\n",
    "\n",
    "3. *Langages multiples* : Conda n'est pas spécifique à un langage de programmation particulier. Il peut être utilisé pour gérer les environnements virtuels pour des projets Python, R, Ruby, Lua, Scala, Java, JavaScript, C/C++, FORTRAN, et plus encore.\n",
    "\n",
    "**Voici les commandes utilisées pour créer l'environnement virtuel**\n",
    "\n",
    "- `git clone https://github.com/NailKhelifa/PyTorch_Personnal` : pour cloner ce repertoire\n",
    "\n",
    "- `cd PyTorch_Personnal` : pour se diriger vers ce repertoire\n",
    "\n",
    "- `conda create --name pytorch --file requirements.txt` : pour créer un environnement virtuel du nom de **pytorch**\n",
    "\n",
    "- `conda list --export > requirements.txt` : pour mettre à jour requirements.txt\n",
    "\n",
    "- `conda activate pytorch` : pour activer l'environnement virtuel \n",
    "\n",
    "- `conda list` : montre tous les packages et leur versions dans l'environnement virtuel"
   ]
  },
  {
   "cell_type": "code",
   "execution_count": 3,
   "metadata": {},
   "outputs": [],
   "source": [
    "import torch\n",
    "import numpy as np"
   ]
  },
  {
   "cell_type": "markdown",
   "metadata": {},
   "source": [
    "## 1. Les tenseurs sur PyTorch\n",
    "\n",
    "### 1.1. How to create a tensor \n",
    "* In PyTorch, everything is based on tensors operations. They are the equivalent arrays in NumPy. \n",
    "\n",
    "* Tensors can have multiple dimensions (1-D, 2-D, ...). To create an empty tensor use `torch.empty(size)` (for instance `torch.empty(1)` gives a scalar, `torch.empty(3)` gives a 1-D tensor with length 3, `torch.empty(2, 2, 2)` gives a 3-D tensor with length 2).\n",
    "\n",
    "* Randomly initialized tensors with `torch.rand(size)`, tensors with ones `torch.ones(size)`, tensors with zero `torch.zeros(size)`\n",
    "\n",
    "* We can specify the type of values in the tensor with `torch.rand(size, dtype=torch.int)`, `torch.rand(size, dtype=torch.float)`... \n",
    "\n",
    "* We can access the size of the tensor with `x.size` where `x` is a tensor\n",
    "\n",
    "* We can create a tensor using a list `x = torch.tensor([2.5, 3])`\n"
   ]
  },
  {
   "cell_type": "markdown",
   "metadata": {},
   "source": [
    "### 1.2. How to make operations on tensors"
   ]
  },
  {
   "cell_type": "markdown",
   "metadata": {},
   "source": [
    "* We have element-wise operations using `z = x + y` or `z = torch.add(x, y)`\n",
    "\n",
    "* Inplace operations "
   ]
  },
  {
   "cell_type": "code",
   "execution_count": 4,
   "metadata": {},
   "outputs": [
    {
     "data": {
      "text/plain": [
       "tensor([[0.2570, 0.1259],\n",
       "        [0.4248, 0.5054]])"
      ]
     },
     "execution_count": 4,
     "metadata": {},
     "output_type": "execute_result"
    }
   ],
   "source": [
    "x = torch.rand(2, 2)\n",
    "y = torch.rand(2, 2)\n",
    "\n",
    "## element-wise addiiton\n",
    "z = x + y\n",
    "z = torch.add(x, y)\n",
    "y.add_(x) # inplace\n",
    "\n",
    "## element-wise subtraction\n",
    "z = x - y\n",
    "z = torch.subtract(x, y)\n",
    "y.sub_(x) # inplace\n",
    "\n",
    "## element-wise multiplication\n",
    "z = x * y \n",
    "z = torch.mul(x, y)\n",
    "y.mul_(x) # inplace\n",
    "\n",
    "## element-wise division\n",
    "z = x / y\n",
    "z = torch.div(x, y)\n",
    "y.div_(x) # inplace\n"
   ]
  },
  {
   "cell_type": "markdown",
   "metadata": {},
   "source": [
    "There are also slicing operations as with lists and arrays in NumPy"
   ]
  },
  {
   "cell_type": "code",
   "execution_count": 5,
   "metadata": {},
   "outputs": [
    {
     "name": "stdout",
     "output_type": "stream",
     "text": [
      "tensor([0.8098, 0.3649, 0.3341, 0.4643, 0.4791])\n",
      "0.9479211568832397\n"
     ]
    }
   ],
   "source": [
    "x = torch.rand(5, 3)\n",
    "print(x[:, 0])\n",
    "print(x[1, 1].item()) ## prints the value. Beware -> works only if oyu have one element in your tensor"
   ]
  },
  {
   "cell_type": "markdown",
   "metadata": {},
   "source": [
    "We can reshape tensors"
   ]
  },
  {
   "cell_type": "code",
   "execution_count": 6,
   "metadata": {},
   "outputs": [],
   "source": [
    "x = torch.rand(4, 4)\n",
    "y = x.view(16) ## it changes the dimensions --> the number of elements must be the same\n",
    "y = x.view(-1, 8) ## if we dont want to put the array in one dimension, we only specify the \n",
    "                  ## dimension of array and python will determine the rest (here 2 x 8)"
   ]
  },
  {
   "cell_type": "markdown",
   "metadata": {},
   "source": [
    "How to convert from NumPy array to torch.tensor and the other way around"
   ]
  },
  {
   "cell_type": "code",
   "execution_count": 7,
   "metadata": {},
   "outputs": [
    {
     "name": "stdout",
     "output_type": "stream",
     "text": [
      "tensor([2., 2., 2., 2., 2., 2.]) [2. 2. 2. 2. 2. 2.]\n",
      "[2. 2. 2. 2. 2.] tensor([2., 2., 2., 2., 2.], dtype=torch.float64)\n"
     ]
    }
   ],
   "source": [
    "## from torch to numpy\n",
    "\n",
    "a = torch.ones(6)\n",
    "b = a.numpy() ## be careful with the parenthesis\n",
    " \n",
    "## BE CAREFUL : if you work on the CPU and not the GPU, modifying b will also modify a because \n",
    "##              both objects share the same memory location\n",
    "\n",
    "a.add_(1)\n",
    "print(a, b) ## modifies both objects\n",
    "\n",
    "## from numpy to torch \n",
    "\n",
    "a = np.ones(5)\n",
    "b = torch.from_numpy(a)\n",
    "\n",
    "a += 1\n",
    "print(a, b)\n"
   ]
  },
  {
   "cell_type": "markdown",
   "metadata": {},
   "source": [
    "## 2. Gradient Calculation With Autograd"
   ]
  },
  {
   "cell_type": "markdown",
   "metadata": {},
   "source": [
    "We here focus on the autograd package in pytorch and how we can calculate gradients with it. Gradients are essential for our optimization problems and this is a very useful tool. \n",
    "\n",
    "Pytorch already includes all the tools required to compute gradients with the package autograd.\n",
    "\n",
    "Note the difference: \n",
    "\n",
    "* `torch.randn()`: generates random numbers from a uniform distribution between 0 (inclusive) and 1 (exclusive).\n",
    "\n",
    "* `torch.rand()`: generates random numbers from a uniform distribution between 0 (inclusive) and 1 (exclusive).\n",
    "\n",
    "We want to calculate the gradient of some functions with respect to x. We must specify the argument `requires_grad=True`. Whenever we make some computations with x, PyTorch will create a so-called computational graph for us. For instance, if we say `y = x + 2` PyTorch will create a computational graph such as: \n",
    "\n",
    "![Alt text](image.png)\n",
    "\n",
    "With this graph and the concept of backpropagation, we can compute the gradient of some functions with respect to x. First, in the *forward pass* we calculate the output y and since we specified it requires the gradient, PyTorch will then create automatically a function for us which is later used in the *backpropagation phase* to get the gradients. Here y has an attribute `grad_fn` which will point to a gradient function called `AddBackward0` and with this function we can compute the gradient in the backward pass."
   ]
  },
  {
   "cell_type": "code",
   "execution_count": 13,
   "metadata": {},
   "outputs": [
    {
     "name": "stdout",
     "output_type": "stream",
     "text": [
      "tensor([0.1489, 2.8824, 3.2960], grad_fn=<AddBackward0>)\n",
      "tensor([ 0.0443, 16.6169, 21.7279], grad_fn=<MulBackward0>)\n",
      "tensor(19.5777, grad_fn=<MeanBackward0>)\n",
      "tensor([0.1985, 3.8432, 4.3947])\n"
     ]
    }
   ],
   "source": [
    "x = torch.randn(3, requires_grad=True)\n",
    "\n",
    "y = x + 2 \n",
    "\n",
    "print(y) ## we see the AddBackward0 function\n",
    "\n",
    "z = y * y * 2 \n",
    "\n",
    "print(z) ## MulBackward0 \n",
    "\n",
    "z = z.mean()\n",
    "\n",
    "print(c) ## MeanBackward0\n",
    "\n",
    "## When we want to compute the gradients, we need to call c.backward()\n",
    "\n",
    "z.backward() ## dz/dx -->THIS IS WHERE THERE IS THE VECTOR JACOBIAN PRODUCT, HERE WE DON'T SPECIFY ANY ARGUMENTS BECAUSE Z IS A SCALAR (see print nb 3)\n",
    "print(x.grad) ## we have the gradients"
   ]
  },
  {
   "cell_type": "markdown",
   "metadata": {},
   "source": [
    "One thing that we should also notice is that in the background, what it does is that it creates a so-called **vector jacobian product** that will look like this:\n",
    "\n",
    "![Alt text](image-1.png)\n",
    "\n",
    "We have the jacobian matrix with the partial derivatives and then we multiply it with the gradient vector to get the final gradient that we are interested in. This is called the **chain rule**. "
   ]
  },
  {
   "cell_type": "code",
   "execution_count": 15,
   "metadata": {},
   "outputs": [
    {
     "name": "stdout",
     "output_type": "stream",
     "text": [
      "tensor([ 0.0443, 16.6169, 21.7279], grad_fn=<MulBackward0>)\n",
      "tensor([ 0.3176, 26.9027,  4.4211])\n"
     ]
    }
   ],
   "source": [
    "z = y * y * 2 ## here z is a vector...\n",
    "\n",
    "print(z)\n",
    "\n",
    "## ...thus, if we are to to the backward operation, we need to multiply it with a vector of same size\n",
    "\n",
    "v = torch.tensor([0.1, 1.0, 0.001], dtype=torch.float32)\n",
    "\n",
    "z.backward(v)\n",
    "\n",
    "print(x.grad)"
   ]
  },
  {
   "cell_type": "markdown",
   "metadata": {},
   "source": [
    "Sometimes, we need to modify the `requires_grad` argument and there are three ways to do this (we assume that `x` is a `torch.tensor`)\n",
    "\n",
    "- `x.requires_grad_(False)`: recall that whenever a method ends with a `_`, it modifies the object inplace\n",
    "- `y = x.detach`: this creates a new vector with the same values but it doesn't requires the gradient\n",
    "- `with torch.no_grad(): y = x + 2`: wrap everything in a with sequence"
   ]
  },
  {
   "cell_type": "markdown",
   "metadata": {},
   "source": [
    "Finally, one last important thing is that whenever we call the `.backward()` function, then the gradient for this tensor will be accumulated in the `.grad` attribute. So the values will be summed up. We need to be careful. Here is a dummy example."
   ]
  },
  {
   "cell_type": "code",
   "execution_count": 20,
   "metadata": {},
   "outputs": [
    {
     "name": "stdout",
     "output_type": "stream",
     "text": [
      "tensor([3., 3., 3., 3.])\n",
      "tensor([3., 3., 3., 3.])\n",
      "tensor([3., 3., 3., 3.])\n"
     ]
    }
   ],
   "source": [
    "weights = torch.ones(4, requires_grad=True)\n",
    "\n",
    "for epoch in range(3): ## we have two iterations, then the second iteration will accumulate the values in the `.grad` attribute\n",
    "                       ## the values are summed up and this is wrong. Thus, before each iteration we must empty the gradient\n",
    "    \n",
    "    model_output = (weights*3).sum()\n",
    "    \n",
    "    model_output.backward()\n",
    "    \n",
    "    print(weights.grad)\n",
    "\n",
    "    weights.grad.zero_()"
   ]
  },
  {
   "cell_type": "markdown",
   "metadata": {},
   "source": [
    "## 3. Backpropagation\n",
    "\n",
    "In this section, we explain the famous backpropagation algorithm and how we can calculate gradients with it. \n",
    "\n",
    "The first concept we must know is the **chain rule**. Let's say we have two functions a and b. First we have the **input x**, then apply the **function a** which gives us the **output y** and we use this output as the input for our second **function b** which gives us the output **z**.\n",
    "\n",
    "The idea is then to minimize the output **z**. For this, we need to compute the derivative of z with respect to the input x **dz/dx**. We use the so-called **chain rule**.\n",
    "\n",
    "![Alt text](image-2.png)"
   ]
  },
  {
   "cell_type": "markdown",
   "metadata": {},
   "source": [
    "The next concept is the so-called **computational graph**. For every operation we do with our tensors, PyTorch will create a graph for us where each at each node we apply one operation or one function with some inputs and get some outputs.\n",
    "\n",
    "In this example, we multiply x and y and get a function f. At this node, we can compute so-called **local gradients** which we will use later in the chain rule to compute the final gradient. \n",
    "\n",
    "We can compute two gradients. In this case [f(x, y) = x*y], the local gradients are easy to compute. Why do we want them ? Because at the end of our graph we compute a Loss function that we want to minimize. \n",
    "\n",
    "If we suppose that we know the derivative of our loss function L with respect to the output z denoted **dL/dz**, we can compute our final gradient with the chain rule (see drawing).\n",
    "\n",
    "![Alt text](image-3.png)\n",
    "\n"
   ]
  },
  {
   "cell_type": "markdown",
   "metadata": {},
   "source": [
    "The whole concept consists of three steps:\n",
    "\n",
    "1. Forward pass: Compute Loss\n",
    "\n",
    "2. Compute local gradients\n",
    "\n",
    "3. Backward pass: Compute dLoss/dWeights using the chain rule "
   ]
  },
  {
   "cell_type": "markdown",
   "metadata": {},
   "source": [
    "### Example: Linear Regression\n",
    "\n",
    "We model our output with a linear combination of our input with some weights ($$\\hat{y} = w \\times x$$) and then we formulate our loss function (square error). The idea is to minimize the squared error with respect to our weights. We follow our three steps: \n",
    "\n",
    "1. We compute the loss\n",
    "\n",
    "2. We compute the local gradients at each node of the computational graph\n",
    "\n",
    "3. We start at the end, we have first our derivative of the loss with respect to s and then we go backward with the chain rule.\n",
    "\n",
    "![Alt text](image-4.png)"
   ]
  },
  {
   "cell_type": "markdown",
   "metadata": {},
   "source": [
    "Here is an example with numerical values: \n",
    "\n",
    "![Alt text](image-5.png)"
   ]
  },
  {
   "cell_type": "markdown",
   "metadata": {},
   "source": [
    "Let's check the value with PyTorch:"
   ]
  },
  {
   "cell_type": "code",
   "execution_count": 24,
   "metadata": {},
   "outputs": [
    {
     "name": "stdout",
     "output_type": "stream",
     "text": [
      "tensor(-2.)\n"
     ]
    }
   ],
   "source": [
    "x = torch.tensor(1.0) ## beware, put it float\n",
    "y = torch.tensor(2.0)\n",
    "w = torch.tensor(1., requires_grad=True) ## BEWARE, WE WANT TO MINIMIZE THE LOSS WITH RESPECT TO THE WEIGHTS SO WE ONLY NEED requires_grad=True FOR W \n",
    "\n",
    "## forward pass and compute loss\n",
    "y_hat = x*w \n",
    "loss = (y_hat - y)**2\n",
    "\n",
    "## backward pas\n",
    "loss.backward()\n",
    "print(w.grad)\n",
    "\n",
    "#### update weights and iterate"
   ]
  },
  {
   "cell_type": "markdown",
   "metadata": {},
   "source": [
    "## 4. Gradient descent with autograd\n"
   ]
  },
  {
   "cell_type": "markdown",
   "metadata": {},
   "source": [
    "We assume that the reader knows how linear regression and gradient descent work and build everything from scratch."
   ]
  },
  {
   "cell_type": "code",
   "execution_count": 26,
   "metadata": {},
   "outputs": [
    {
     "name": "stdout",
     "output_type": "stream",
     "text": [
      "Prediction before training: f(5) = 0.000\n",
      "epoch 1: w = 1.200, loss = 30.00000000\n",
      "epoch 2: w = 1.680, loss = 4.79999924\n",
      "epoch 3: w = 1.872, loss = 0.76800019\n",
      "epoch 4: w = 1.949, loss = 0.12288000\n",
      "epoch 5: w = 1.980, loss = 0.01966083\n",
      "epoch 6: w = 1.992, loss = 0.00314570\n",
      "epoch 7: w = 1.997, loss = 0.00050332\n",
      "epoch 8: w = 1.999, loss = 0.00008053\n",
      "epoch 9: w = 1.999, loss = 0.00001288\n",
      "epoch 10: w = 2.000, loss = 0.00000206\n",
      "epoch 11: w = 2.000, loss = 0.00000033\n",
      "epoch 12: w = 2.000, loss = 0.00000005\n",
      "epoch 13: w = 2.000, loss = 0.00000001\n",
      "epoch 14: w = 2.000, loss = 0.00000000\n",
      "epoch 15: w = 2.000, loss = 0.00000000\n",
      "epoch 16: w = 2.000, loss = 0.00000000\n",
      "epoch 17: w = 2.000, loss = 0.00000000\n",
      "epoch 18: w = 2.000, loss = 0.00000000\n",
      "epoch 19: w = 2.000, loss = 0.00000000\n",
      "epoch 20: w = 2.000, loss = 0.00000000\n",
      "epoch 21: w = 2.000, loss = 0.00000000\n",
      "epoch 22: w = 2.000, loss = 0.00000000\n",
      "epoch 23: w = 2.000, loss = 0.00000000\n",
      "epoch 24: w = 2.000, loss = 0.00000000\n",
      "epoch 25: w = 2.000, loss = 0.00000000\n",
      "epoch 26: w = 2.000, loss = 0.00000000\n",
      "epoch 27: w = 2.000, loss = 0.00000000\n",
      "epoch 28: w = 2.000, loss = 0.00000000\n",
      "epoch 29: w = 2.000, loss = 0.00000000\n",
      "epoch 30: w = 2.000, loss = 0.00000000\n",
      "epoch 31: w = 2.000, loss = 0.00000000\n",
      "epoch 32: w = 2.000, loss = 0.00000000\n",
      "epoch 33: w = 2.000, loss = 0.00000000\n",
      "epoch 34: w = 2.000, loss = 0.00000000\n",
      "epoch 35: w = 2.000, loss = 0.00000000\n",
      "epoch 36: w = 2.000, loss = 0.00000000\n",
      "epoch 37: w = 2.000, loss = 0.00000000\n",
      "epoch 38: w = 2.000, loss = 0.00000000\n",
      "epoch 39: w = 2.000, loss = 0.00000000\n",
      "epoch 40: w = 2.000, loss = 0.00000000\n",
      "epoch 41: w = 2.000, loss = 0.00000000\n",
      "epoch 42: w = 2.000, loss = 0.00000000\n",
      "epoch 43: w = 2.000, loss = 0.00000000\n",
      "epoch 44: w = 2.000, loss = 0.00000000\n",
      "epoch 45: w = 2.000, loss = 0.00000000\n",
      "epoch 46: w = 2.000, loss = 0.00000000\n",
      "epoch 47: w = 2.000, loss = 0.00000000\n",
      "epoch 48: w = 2.000, loss = 0.00000000\n",
      "epoch 49: w = 2.000, loss = 0.00000000\n",
      "epoch 50: w = 2.000, loss = 0.00000000\n",
      "epoch 51: w = 2.000, loss = 0.00000000\n",
      "epoch 52: w = 2.000, loss = 0.00000000\n",
      "epoch 53: w = 2.000, loss = 0.00000000\n",
      "epoch 54: w = 2.000, loss = 0.00000000\n",
      "epoch 55: w = 2.000, loss = 0.00000000\n",
      "epoch 56: w = 2.000, loss = 0.00000000\n",
      "epoch 57: w = 2.000, loss = 0.00000000\n",
      "epoch 58: w = 2.000, loss = 0.00000000\n",
      "epoch 59: w = 2.000, loss = 0.00000000\n",
      "epoch 60: w = 2.000, loss = 0.00000000\n",
      "epoch 61: w = 2.000, loss = 0.00000000\n",
      "epoch 62: w = 2.000, loss = 0.00000000\n",
      "epoch 63: w = 2.000, loss = 0.00000000\n",
      "epoch 64: w = 2.000, loss = 0.00000000\n",
      "epoch 65: w = 2.000, loss = 0.00000000\n",
      "epoch 66: w = 2.000, loss = 0.00000000\n",
      "epoch 67: w = 2.000, loss = 0.00000000\n",
      "epoch 68: w = 2.000, loss = 0.00000000\n",
      "epoch 69: w = 2.000, loss = 0.00000000\n",
      "epoch 70: w = 2.000, loss = 0.00000000\n",
      "epoch 71: w = 2.000, loss = 0.00000000\n",
      "epoch 72: w = 2.000, loss = 0.00000000\n",
      "epoch 73: w = 2.000, loss = 0.00000000\n",
      "epoch 74: w = 2.000, loss = 0.00000000\n",
      "epoch 75: w = 2.000, loss = 0.00000000\n",
      "epoch 76: w = 2.000, loss = 0.00000000\n",
      "epoch 77: w = 2.000, loss = 0.00000000\n",
      "epoch 78: w = 2.000, loss = 0.00000000\n",
      "epoch 79: w = 2.000, loss = 0.00000000\n",
      "epoch 80: w = 2.000, loss = 0.00000000\n",
      "epoch 81: w = 2.000, loss = 0.00000000\n",
      "epoch 82: w = 2.000, loss = 0.00000000\n",
      "epoch 83: w = 2.000, loss = 0.00000000\n",
      "epoch 84: w = 2.000, loss = 0.00000000\n",
      "epoch 85: w = 2.000, loss = 0.00000000\n",
      "epoch 86: w = 2.000, loss = 0.00000000\n",
      "epoch 87: w = 2.000, loss = 0.00000000\n",
      "epoch 88: w = 2.000, loss = 0.00000000\n",
      "epoch 89: w = 2.000, loss = 0.00000000\n",
      "epoch 90: w = 2.000, loss = 0.00000000\n",
      "epoch 91: w = 2.000, loss = 0.00000000\n",
      "epoch 92: w = 2.000, loss = 0.00000000\n",
      "epoch 93: w = 2.000, loss = 0.00000000\n",
      "epoch 94: w = 2.000, loss = 0.00000000\n",
      "epoch 95: w = 2.000, loss = 0.00000000\n",
      "epoch 96: w = 2.000, loss = 0.00000000\n",
      "epoch 97: w = 2.000, loss = 0.00000000\n",
      "epoch 98: w = 2.000, loss = 0.00000000\n",
      "epoch 99: w = 2.000, loss = 0.00000000\n",
      "epoch 100: w = 2.000, loss = 0.00000000\n",
      "Prediction after training: f(5) = 10.000\n"
     ]
    }
   ],
   "source": [
    "import numpy as np\n",
    "\n",
    "## we assume the model is f(x) = 2 * x, i.e. the weights are here given by 2 \n",
    "\n",
    "X = np.array([1, 2, 3, 4], dtype=np.float32) ## training sample \n",
    "Y = np.array([2, 4, 6, 8], dtype=np.float32)\n",
    "\n",
    "w = 0.0 \n",
    "\n",
    "## model prediction \n",
    "\n",
    "def forward(x): \n",
    "    return w * x\n",
    "\n",
    "## loss\n",
    "\n",
    "def loss(y, y_predicted):\n",
    "    return ((y - y_predicted) ** 2).mean()\n",
    "\n",
    "## gradient (computed by hand):\n",
    "# MSE = 1/N * (w * x - y) ** 2\n",
    "# dJ/dw = 1/N * 2 * x * (w * x - y)\n",
    "\n",
    "def gradient(x, y, y_predicted):\n",
    "    return np.dot(2*x, y_predicted - y)\n",
    "\n",
    "print(f\"Prediction before training: f(5) = {forward(5):.3f}\")\n",
    "\n",
    "## training: \n",
    "learning_rate = 0.01\n",
    "n_iters = 100\n",
    "\n",
    "for epoch in range(n_iters):\n",
    "    # Prediction = forward pass\n",
    "    y_pred = forward(X)\n",
    "\n",
    "    # Loss\n",
    "    l = loss(Y, y_pred)\n",
    "    \n",
    "    # Gradients\n",
    "    dw = gradient(X,Y, y_pred)\n",
    "\n",
    "    # Update weights\n",
    "    w -= learning_rate * dw ## update formula for the gradient descent algorithm\n",
    "\n",
    "    if epoch % 1 == 0: ## we print every step\n",
    "        print(f'epoch {epoch + 1}: w = {w:.3f}, loss = {l:.8f}')\n",
    "\n",
    "print(f\"Prediction after training: f(5) = {forward(5):.3f}\")\n"
   ]
  },
  {
   "cell_type": "markdown",
   "metadata": {},
   "source": [
    "This is the implementation were we did everything manually. Now we compute the gradient using PyTorch, and we don't resort to numpy anymore."
   ]
  },
  {
   "cell_type": "code",
   "execution_count": 29,
   "metadata": {},
   "outputs": [
    {
     "name": "stdout",
     "output_type": "stream",
     "text": [
      "Prediction before training: f(5) = 0.000\n",
      "epoch 1: w = 0.300, loss = 30.00000000\n",
      "epoch 11: w = 1.665, loss = 1.16278565\n",
      "epoch 21: w = 1.934, loss = 0.04506890\n",
      "epoch 31: w = 1.987, loss = 0.00174685\n",
      "epoch 41: w = 1.997, loss = 0.00006770\n",
      "epoch 51: w = 1.999, loss = 0.00000262\n",
      "epoch 61: w = 2.000, loss = 0.00000010\n",
      "epoch 71: w = 2.000, loss = 0.00000000\n",
      "epoch 81: w = 2.000, loss = 0.00000000\n",
      "epoch 91: w = 2.000, loss = 0.00000000\n",
      "Prediction after training: f(5) = 10.000\n"
     ]
    }
   ],
   "source": [
    "import torch \n",
    "\n",
    "## we assume the model is f(x) = 2 * x, i.e. the weights are here given by 2 \n",
    "\n",
    "X = torch.tensor([1, 2, 3, 4], dtype=torch.float32) ## training sample \n",
    "Y = torch.tensor([2, 4, 6, 8], dtype=torch.float32)\n",
    "\n",
    "w = torch.tensor(0.0, dtype=torch.float32, requires_grad=True) \n",
    "\n",
    "## model prediction \n",
    "\n",
    "def forward(x): \n",
    "    return w * x\n",
    "\n",
    "## loss\n",
    "\n",
    "def loss(y, y_predicted):\n",
    "    return ((y - y_predicted) ** 2).mean()\n",
    "\n",
    "print(f\"Prediction before training: f(5) = {forward(5):.3f}\")\n",
    "\n",
    "## training: \n",
    "learning_rate = 0.01\n",
    "n_iters = 100\n",
    "\n",
    "for epoch in range(n_iters):\n",
    "    # Prediction = forward pass\n",
    "    y_pred = forward(X)\n",
    "\n",
    "    # Loss\n",
    "    l = loss(Y, y_pred)\n",
    "    \n",
    "    # Gradients = backward pass\n",
    "    l.backward()\n",
    "\n",
    "    # Update weights\n",
    "    with torch.no_grad():\n",
    "        w -= learning_rate * w.grad ## update formula for the gradient descent algorithm\n",
    "\n",
    "    # Zero gradient\n",
    "    w.grad.zero_()\n",
    "\n",
    "    if epoch % 10 == 0: ## we print every step\n",
    "        print(f'epoch {epoch + 1}: w = {w:.3f}, loss = {l:.8f}')\n",
    "\n",
    "\n",
    "print(f\"Prediction after training: f(5) = {forward(5):.3f}\")\n"
   ]
  },
  {
   "cell_type": "markdown",
   "metadata": {},
   "source": [
    "## 5. Training Pipeline: Model, Loss, and Optimizer"
   ]
  },
  {
   "cell_type": "markdown",
   "metadata": {},
   "source": [
    "In this section, we continue the previous example of linear regression but we compute loss and update parameters with PyTorch classes: \n",
    "![Alt text](image-6.png)"
   ]
  },
  {
   "cell_type": "markdown",
   "metadata": {},
   "source": [
    "The general training pipeline in PyTorch is composed of three steps: \n",
    "\n",
    "1. Design the model (input size, output size, forward pass phase (define all the functions/layers)) \n",
    "\n",
    "2. Design the loss and the optimizer\n",
    "\n",
    "3. Build the training loop: \n",
    "    1. Forward pass : compute the prediction \n",
    "    2. Backward pass : compute the gradients\n",
    "    3. Update the weights and iterate until convergence\n",
    "\n",
    "In the following code, we modified: \n",
    "\n",
    "- `import torch.nn as nn` which gives us the loss function \n",
    "- we don't define a routine for the loss function but instead we use .nn\n",
    "- we don't update manually the weights according to the gradient descent but instead we use the `optimizer.step()`"
   ]
  },
  {
   "cell_type": "code",
   "execution_count": 30,
   "metadata": {},
   "outputs": [
    {
     "name": "stdout",
     "output_type": "stream",
     "text": [
      "Prediction before training: f(5) = 0.000\n",
      "epoch 1: w = 0.300, loss = 30.00000000\n",
      "epoch 11: w = 1.665, loss = 1.16278565\n",
      "epoch 21: w = 1.934, loss = 0.04506890\n",
      "epoch 31: w = 1.987, loss = 0.00174685\n",
      "epoch 41: w = 1.997, loss = 0.00006770\n",
      "epoch 51: w = 1.999, loss = 0.00000262\n",
      "epoch 61: w = 2.000, loss = 0.00000010\n",
      "epoch 71: w = 2.000, loss = 0.00000000\n",
      "epoch 81: w = 2.000, loss = 0.00000000\n",
      "epoch 91: w = 2.000, loss = 0.00000000\n",
      "Prediction after training: f(5) = 10.000\n"
     ]
    }
   ],
   "source": [
    "import torch \n",
    "import torch.nn as nn ## neural network module\n",
    "\n",
    "################# STEP 1: design the model, we assume the model is f(x) = 2 * x, i.e. the weights are here given by 2 \n",
    "\n",
    "X = torch.tensor([1, 2, 3, 4], dtype=torch.float32) ## training sample \n",
    "Y = torch.tensor([2, 4, 6, 8], dtype=torch.float32)\n",
    "\n",
    "w = torch.tensor(0.0, dtype=torch.float32, requires_grad=True) \n",
    "\n",
    "## model prediction \n",
    "\n",
    "def forward(x): \n",
    "    return w * x\n",
    "\n",
    "print(f\"Prediction before training: f(5) = {forward(5):.3f}\")\n",
    "\n",
    "################### STEP 2: we don't define manually the loss anymore\n",
    "\n",
    "## training: \n",
    "learning_rate = 0.01\n",
    "n_iters = 100\n",
    "\n",
    "loss = nn.MSELoss()\n",
    "optimizer = torch.optim.SGD([w], lr=learning_rate) ## stochastic gradient descent\n",
    "\n",
    "for epoch in range(n_iters):\n",
    "    # Prediction = forward pass\n",
    "    y_pred = forward(X)\n",
    "\n",
    "    # Loss\n",
    "    l = loss(Y, y_pred)\n",
    "    \n",
    "    # Gradients = backward pass\n",
    "    l.backward()\n",
    "\n",
    "    # Update weights\n",
    "    optimizer.step()\n",
    "\n",
    "    # Zero gradient\n",
    "    optimizer.zero_grad() ## we still need to empty the gradients\n",
    "\n",
    "    if epoch % 10 == 0: ## we print every step\n",
    "        print(f'epoch {epoch + 1}: w = {w:.3f}, loss = {l:.8f}')\n",
    "\n",
    "\n",
    "print(f\"Prediction after training: f(5) = {forward(5):.3f}\")\n"
   ]
  },
  {
   "cell_type": "markdown",
   "metadata": {},
   "source": [
    "Then we will use completely PyTorch to run the complete pipeline:\n",
    "\n",
    "![Alt text](image-7.png)\n",
    "\n",
    "We now replace our manually implemented forward method with the PyTorch module. Thus we change: \n",
    "\n",
    "- We don't need the weights in the line `w = torch.tensor(0.0, dtype=torch.float32, requires_grad=True)` anymore because our PyTorch module knows the parameters\n",
    "\n",
    "- We add `model = nn.Linear()`\n",
    "\n",
    "- We modify the shape of our input and output parameters \n",
    "\n",
    "- We added some data to test our model: `X_test = torch.tensor([5], dtype=torch.float32)`\n",
    "\n",
    "- Modify the optimizer parameters as we removed the weights in our code: `optimizer = torch.optim.SGD(model.parameters, lr=learning_rate) ## stochastic gradient descent`\n",
    "\n",
    "- We defined our prediction by: `y_pred = model(X)`"
   ]
  },
  {
   "cell_type": "code",
   "execution_count": 35,
   "metadata": {},
   "outputs": [
    {
     "name": "stdout",
     "output_type": "stream",
     "text": [
      "Prediction before training: f(5) = -2.610\n",
      "epoch 1: w = -0.012, loss = 50.82128143\n",
      "epoch 11: w = 1.622, loss = 1.32085252\n",
      "epoch 21: w = 1.887, loss = 0.03980955\n",
      "epoch 31: w = 1.931, loss = 0.00633789\n",
      "epoch 41: w = 1.939, loss = 0.00516294\n",
      "epoch 51: w = 1.942, loss = 0.00484158\n",
      "epoch 61: w = 1.944, loss = 0.00455924\n",
      "epoch 71: w = 1.946, loss = 0.00429385\n",
      "epoch 81: w = 1.947, loss = 0.00404393\n",
      "epoch 91: w = 1.949, loss = 0.00380856\n",
      "Prediction after training: f(5) = 9.897\n"
     ]
    }
   ],
   "source": [
    "import torch \n",
    "import torch.nn as nn ## neural network module\n",
    "\n",
    "################# STEP 1: design the model, we assume the model is f(x) = 2 * x, i.e. the weights are here given by 2 \n",
    "\n",
    "X = torch.tensor([[1], [2], [3], [4]], dtype=torch.float32) ## training sample \n",
    "Y = torch.tensor([[2], [4], [6], [8]], dtype=torch.float32)\n",
    "\n",
    "X_test = torch.tensor([5], dtype=torch.float32)\n",
    "n_samples, n_features = X.shape\n",
    "\n",
    "input_size = n_features\n",
    "output_size = n_features\n",
    "\n",
    "## model prediction \n",
    "\n",
    "# model = nn.Linear(input_size, output_size) --> this work but we want to create a more general approach using a class\n",
    "\n",
    "class LinearRegression(nn.Module):\n",
    "\n",
    "    def __init__(self, input_dim, output_dim):\n",
    "        super(LinearRegression, self).__init__()\n",
    "        # define layers\n",
    "        self.lin = nn.Linear(input_dim, output_dim)\n",
    "\n",
    "    def forward(self, x):\n",
    "        return self.lin(x)\n",
    "\n",
    "model = LinearRegression(input_size, output_size)\n",
    "\n",
    "print(f\"Prediction before training: f(5) = {model(X_test).item():.3f}\")\n",
    "\n",
    "################### STEP 2: we don't define manually the loss anymore\n",
    "\n",
    "## training: \n",
    "learning_rate = 0.01\n",
    "n_iters = 100\n",
    "\n",
    "loss = nn.MSELoss()\n",
    "optimizer = torch.optim.SGD(model.parameters(), lr=learning_rate) ## stochastic gradient descent\n",
    "\n",
    "for epoch in range(n_iters):\n",
    "    # Prediction = forward pass\n",
    "    y_pred = model(X)\n",
    "\n",
    "    # Loss\n",
    "    l = loss(Y, y_pred)\n",
    "    \n",
    "    # Gradients = backward pass\n",
    "    l.backward()\n",
    "\n",
    "    # Update weights\n",
    "    optimizer.step()\n",
    "\n",
    "    # Zero gradient\n",
    "    optimizer.zero_grad() ## we still need to empty the gradients\n",
    "\n",
    "    if epoch % 10 == 0: ## we print every step\n",
    "        [w, b] = model.parameters()\n",
    "        print(f'epoch {epoch + 1}: w = {w[0][0].item():.3f}, loss = {l:.8f}')\n",
    "\n",
    "\n",
    "print(f\"Prediction after training: f(5) = {model(X_test).item():.3f}\")"
   ]
  },
  {
   "cell_type": "markdown",
   "metadata": {},
   "source": [
    "## Linear Regression\n",
    "\n",
    "In this section we construct the whole linear regression model from scratch using python. \n",
    "\n",
    "1. Design model (input, output size, forward pass)\n",
    "2. Construct loss and optimizer\n",
    "3. Training loop: \n",
    "- forward pass: compute prediction loss\n",
    "- backward pass: gradients\n",
    "- update weights"
   ]
  },
  {
   "cell_type": "code",
   "execution_count": 16,
   "metadata": {},
   "outputs": [
    {
     "name": "stdout",
     "output_type": "stream",
     "text": [
      "Collecting matplotlib\n",
      "  Downloading matplotlib-3.8.3-cp312-cp312-macosx_10_12_x86_64.whl.metadata (5.8 kB)\n",
      "Collecting contourpy>=1.0.1 (from matplotlib)\n",
      "  Downloading contourpy-1.2.0-cp312-cp312-macosx_10_9_x86_64.whl.metadata (5.8 kB)\n",
      "Collecting cycler>=0.10 (from matplotlib)\n",
      "  Downloading cycler-0.12.1-py3-none-any.whl.metadata (3.8 kB)\n",
      "Collecting fonttools>=4.22.0 (from matplotlib)\n",
      "  Downloading fonttools-4.49.0-cp312-cp312-macosx_10_9_x86_64.whl.metadata (159 kB)\n",
      "\u001b[2K     \u001b[90m━━━━━━━━━━━━━━━━━━━━━━━━━━━━━━━━━━━━━━━\u001b[0m \u001b[32m159.1/159.1 kB\u001b[0m \u001b[31m2.3 MB/s\u001b[0m eta \u001b[36m0:00:00\u001b[0ma \u001b[36m0:00:01\u001b[0m\n",
      "\u001b[?25hCollecting kiwisolver>=1.3.1 (from matplotlib)\n",
      "  Downloading kiwisolver-1.4.5-cp312-cp312-macosx_10_9_x86_64.whl.metadata (6.4 kB)\n",
      "Requirement already satisfied: numpy<2,>=1.21 in /Users/khelifanail/anaconda3/envs/pytorch/lib/python3.12/site-packages (from matplotlib) (1.26.3)\n",
      "Requirement already satisfied: packaging>=20.0 in /Users/khelifanail/anaconda3/envs/pytorch/lib/python3.12/site-packages (from matplotlib) (23.2)\n",
      "Requirement already satisfied: pillow>=8 in /Users/khelifanail/anaconda3/envs/pytorch/lib/python3.12/site-packages (from matplotlib) (10.2.0)\n",
      "Collecting pyparsing>=2.3.1 (from matplotlib)\n",
      "  Downloading pyparsing-3.1.1-py3-none-any.whl.metadata (5.1 kB)\n",
      "Requirement already satisfied: python-dateutil>=2.7 in /Users/khelifanail/anaconda3/envs/pytorch/lib/python3.12/site-packages (from matplotlib) (2.8.2)\n",
      "Requirement already satisfied: six>=1.5 in /Users/khelifanail/anaconda3/envs/pytorch/lib/python3.12/site-packages (from python-dateutil>=2.7->matplotlib) (1.16.0)\n",
      "Downloading matplotlib-3.8.3-cp312-cp312-macosx_10_12_x86_64.whl (7.6 MB)\n",
      "\u001b[2K   \u001b[90m━━━━━━━━━━━━━━━━━━━━━━━━━━━━━━━━━━━━━━━━\u001b[0m \u001b[32m7.6/7.6 MB\u001b[0m \u001b[31m8.6 MB/s\u001b[0m eta \u001b[36m0:00:00\u001b[0m00:01\u001b[0m00:01\u001b[0mm\n",
      "\u001b[?25hDownloading contourpy-1.2.0-cp312-cp312-macosx_10_9_x86_64.whl (259 kB)\n",
      "\u001b[2K   \u001b[90m━━━━━━━━━━━━━━━━━━━━━━━━━━━━━━━━━━━━━━━━\u001b[0m \u001b[32m259.3/259.3 kB\u001b[0m \u001b[31m5.4 MB/s\u001b[0m eta \u001b[36m0:00:00\u001b[0m:00:01\u001b[0m\n",
      "\u001b[?25hDownloading cycler-0.12.1-py3-none-any.whl (8.3 kB)\n",
      "Downloading fonttools-4.49.0-cp312-cp312-macosx_10_9_x86_64.whl (2.3 MB)\n",
      "\u001b[2K   \u001b[90m━━━━━━━━━━━━━━━━━━━━━━━━━━━━━━━━━━━━━━━━\u001b[0m \u001b[32m2.3/2.3 MB\u001b[0m \u001b[31m9.5 MB/s\u001b[0m eta \u001b[36m0:00:00\u001b[0m:00:01\u001b[0m00:01\u001b[0m\n",
      "\u001b[?25hDownloading kiwisolver-1.4.5-cp312-cp312-macosx_10_9_x86_64.whl (67 kB)\n",
      "\u001b[2K   \u001b[90m━━━━━━━━━━━━━━━━━━━━━━━━━━━━━━━━━━━━━━━━\u001b[0m \u001b[32m67.3/67.3 kB\u001b[0m \u001b[31m2.2 MB/s\u001b[0m eta \u001b[36m0:00:00\u001b[0m\n",
      "\u001b[?25hDownloading pyparsing-3.1.1-py3-none-any.whl (103 kB)\n",
      "\u001b[2K   \u001b[90m━━━━━━━━━━━━━━━━━━━━━━━━━━━━━━━━━━━━━━━━\u001b[0m \u001b[32m103.1/103.1 kB\u001b[0m \u001b[31m3.1 MB/s\u001b[0m eta \u001b[36m0:00:00\u001b[0m\n",
      "\u001b[?25hInstalling collected packages: pyparsing, kiwisolver, fonttools, cycler, contourpy, matplotlib\n",
      "Successfully installed contourpy-1.2.0 cycler-0.12.1 fonttools-4.49.0 kiwisolver-1.4.5 matplotlib-3.8.3 pyparsing-3.1.1\n",
      "Note: you may need to restart the kernel to use updated packages.\n"
     ]
    }
   ],
   "source": [
    "pip install matplotlib"
   ]
  },
  {
   "cell_type": "code",
   "execution_count": 21,
   "metadata": {},
   "outputs": [
    {
     "name": "stdout",
     "output_type": "stream",
     "text": [
      "epoch: 10, loss= 4343.0381\n",
      "epoch: 20, loss= 3240.5144\n",
      "epoch: 30, loss= 2443.0042\n",
      "epoch: 40, loss= 1865.4977\n",
      "epoch: 50, loss= 1446.8823\n",
      "epoch: 60, loss= 1143.1592\n",
      "epoch: 70, loss= 922.6050\n",
      "epoch: 80, loss= 762.3188\n",
      "epoch: 90, loss= 645.7469\n",
      "epoch: 100, loss= 560.9104\n"
     ]
    },
    {
     "data": {
      "text/plain": [
       "[<matplotlib.lines.Line2D at 0x139f2c9b0>]"
      ]
     },
     "execution_count": 21,
     "metadata": {},
     "output_type": "execute_result"
    },
    {
     "data": {
      "image/png": "[encoded data removed]",
      "text/plain": [
       "<Figure size 640x480 with 1 Axes>"
      ]
     },
     "metadata": {},
     "output_type": "display_data"
    }
   ],
   "source": [
    "import torch \n",
    "import torch.nn as nn\n",
    "import numpy as np \n",
    "from sklearn import datasets\n",
    "import matplotlib.pyplot as plt\n",
    "\n",
    "\n",
    "# 0) prepare data\n",
    "X_numpy, y_numpy = datasets.make_regression(n_samples=100, n_features=1, noise=20, random_state=1)\n",
    "X = torch.from_numpy(X_numpy.astype(np.float32))\n",
    "y = torch.from_numpy(y_numpy.astype(np.float32))\n",
    "y = y.view(y.shape[0], 1) ## we want to reshape our y because it has one row and we want to make it a column vector : \n",
    "\n",
    "## view is a built-in PyTorch method to reshape tensors\n",
    "n_samples, n_features = X.shape\n",
    "\n",
    "# 1) model : just one layer\n",
    "input_size = n_features\n",
    "output_size = 1 ## we just want one value for the prediction we make\n",
    "model = nn.Linear(input_size, output_size)\n",
    "\n",
    "# 2) optimizer and loss\n",
    "criterion = nn.MSELoss() ## built-in optimization method\n",
    "optimizer = torch.optim.SGD(model.parameters(), lr = 0.01) ## the arguments are the parameters we want to optimize and a learning rate\n",
    "\n",
    "# 3) training loop\n",
    "num_epochs = 100\n",
    "for epoch in range(num_epochs):\n",
    "    ## we follow the three steps \n",
    "\n",
    "    # forward-pass: \n",
    "    y_predicted = model(X)\n",
    "    loss = criterion(y_predicted, y)\n",
    "\n",
    "    # backward pass\n",
    "    loss.backward()\n",
    "\n",
    "    # update weights\n",
    "    optimizer.step()\n",
    "\n",
    "    # we have to empty our gradients\n",
    "    optimizer.zero_grad()\n",
    "\n",
    "    if (epoch + 1) % 10 == 0:\n",
    "        print(f\"epoch: {epoch + 1 }, loss= {loss.item():.4f}\")\n",
    "\n",
    "\n",
    "# Plot\n",
    "        \n",
    "predicted = model(X).detach() ##.detach() generates a new tensor that sets the required_gradient algorithm to zero\n",
    "plt.plot(X_numpy, y_numpy, 'ro')\n",
    "plt.plot(X_numpy, predicted, 'b')"
   ]
  },
  {
   "cell_type": "markdown",
   "metadata": {},
   "source": [
    "## 8. Logistic regression\n",
    "\n",
    "1. Design model (input, output size, forward pass)\n",
    "2. Construct loss and optimizer\n",
    "3. Training loop: \n",
    "- forward pass: compute prediction loss\n",
    "- backward pass: gradients\n",
    "- update weights\n",
    "\n",
    "Here is the binary cross entropy loss function: \n",
    "\n",
    "$$\n",
    "\\mathcal{L}_{BCE} = \\frac{1}{N} \\sum_{i=1}^n (Y_i \\cdot \\log(Y_i) + (1 - Y_i) \\cdot \\log(1-\\hat{Y}_i))\n",
    "$$"
   ]
  },
  {
   "cell_type": "code",
   "execution_count": 1,
   "metadata": {},
   "outputs": [
    {
     "name": "stdout",
     "output_type": "stream",
     "text": [
      "epoch : 10, loss = 0.2491\n",
      "epoch : 20, loss = 0.1773\n",
      "epoch : 30, loss = 0.1471\n",
      "epoch : 40, loss = 0.1295\n",
      "epoch : 50, loss = 0.1178\n",
      "epoch : 60, loss = 0.1093\n",
      "epoch : 70, loss = 0.1027\n",
      "epoch : 80, loss = 0.0974\n",
      "epoch : 90, loss = 0.0931\n",
      "epoch : 100, loss = 0.0895\n",
      "accuracy = 0.9298\n"
     ]
    }
   ],
   "source": [
    "import torch \n",
    "import torch.nn as nn\n",
    "import numpy as np \n",
    "from sklearn import datasets\n",
    "import matplotlib.pyplot as plt\n",
    "from sklearn.preprocessing import StandardScaler\n",
    "from sklearn.model_selection import train_test_split # separating between train and test split\n",
    "\n",
    "# 0. Prepare the data\n",
    "\n",
    "bc = datasets.load_breast_cancer() ## binary classification problem\n",
    "X, y = bc.data, bc.target\n",
    "\n",
    "n_samples, n_features = X.shape\n",
    "\n",
    "X_train, X_test, y_train, y_test = train_test_split(X, y, test_size=0.2, random_state=1234)\n",
    "\n",
    "#scale \n",
    "sc = StandardScaler() # that will make our features have 0 mean and unit variance, THIS IS ALWAYS RECOMMENDED TO DO WHEN WE DEAL WITH LOGISTIC REGRESSION\n",
    "X_train = sc.fit_transform(X_train)\n",
    "X_test = sc.transform(X_test)\n",
    "\n",
    "#convert the data to torch.tensor\n",
    "X_train = torch.from_numpy(X_train.astype(np.float32))\n",
    "X_test = torch.from_numpy(X_test.astype(np.float32))\n",
    "y_train = torch.from_numpy(y_train.astype(np.float32))\n",
    "y_test = torch.from_numpy(y_test.astype(np.float32))\n",
    "\n",
    "y_train = y_train.view(y_train.shape[0], 1) # we want to make it a column vector\n",
    "y_test = y_test.view(y_test.shape[0], 1) # we want to make it a column vector\n",
    "\n",
    "# 1. model: f=wx + b, sigmoid at the end\n",
    "class LogisticRegression(nn.Module):\n",
    "\n",
    "    def __init__(self, n_input_features):\n",
    "        super(LogisticRegression, self).__init__()\n",
    "        self.linear = nn.Linear(n_input_features, 1) ## we create one layer using nn.Linear --> we want 1 output and give an input of size n_input \n",
    "\n",
    "    def forward(self, data):\n",
    "        y_predicted = torch.sigmoid(self.linear(data))\n",
    "        return y_predicted\n",
    "    \n",
    "model = LogisticRegression(n_features)\n",
    "\n",
    "# 2. Loss and optimizer\n",
    "learning_rate = 0.1\n",
    "criterion = nn.BCELoss() # Binary Cross-Entropy\n",
    "optimizer = torch.optim.SGD(model.parameters(), lr=learning_rate)\n",
    "\n",
    "# 3. Training loop\n",
    "\n",
    "num_epochs = 100\n",
    "\n",
    "for epoch in range(num_epochs):\n",
    "    # forward pass and loss\n",
    "    y_predicted = model(X_train)\n",
    "    loss = criterion(y_predicted, y_train)\n",
    "\n",
    "    # backward pass\n",
    "    loss.backward() ## PyTorch does all the computations for us\n",
    "\n",
    "    # updates \n",
    "    optimizer.step()\n",
    "\n",
    "    # zero gradients (because the .backward()) adds the gradients\n",
    "    optimizer.zero_grad()\n",
    "\n",
    "    if (epoch + 1) % 10 ==  0:\n",
    "         print(f'epoch : {epoch + 1}, loss = {loss.item():.4f}')\n",
    "\n",
    "with torch.no_grad():\n",
    "    y_predicted = model(X_test)\n",
    "    y_predicted_cls = y_predicted.round()\n",
    "    acc = y_predicted_cls.eq(y_test).sum() / float(y_test.shape[0])\n",
    "    print(f'accuracy = {acc:.4f}')"
   ]
  },
  {
   "cell_type": "markdown",
   "metadata": {},
   "source": [
    "## 9. Dataset and DataLoader - Batch training\n",
    "\n",
    "\n",
    "\n"
   ]
  },
  {
   "cell_type": "markdown",
   "metadata": {},
   "source": [
    "## 11. Softmax and Cross Entropy\n",
    "\n",
    "These are one of the most common functions used for neural networks. \n",
    "\n",
    "The formula of the softmax is the following: \n",
    "\n",
    "$$\n",
    "S(y_i) = \\frac{e^{y_i}}{\\sum_{i=1}^n e^{y_i}}\n",
    "$$\n",
    "\n",
    "This function squashes the output to be between 0 and 1 so that we get probabilities. Let's take an example of a neural network of linear layer with three output values. These values are so-called **scores** or **logits** which are raw and after the softmax function, we get probabilities. \n",
    "\n",
    "![Alt text](image-9.png)\n",
    "\n",
    "The highest logit has the highest probability. Here is the code"
   ]
  },
  {
   "cell_type": "code",
   "execution_count": 2,
   "metadata": {},
   "outputs": [
    {
     "name": "stdout",
     "output_type": "stream",
     "text": [
      "tensor([0.6590, 0.2424, 0.0986])\n"
     ]
    }
   ],
   "source": [
    "import torch \n",
    "import torch.nn as nn \n",
    "import numpy as np \n",
    "\n",
    "x = torch.tensor([2.0, 1.0, 0.1])\n",
    "outputs = torch.softmax(x, dim=0)\n",
    "print(outputs)"
   ]
  },
  {
   "cell_type": "markdown",
   "metadata": {},
   "source": [
    "A lot of time, the softmax function is combined with the so-called **cross-entropy loss** function. This matress the performance of our classification model whose output is a probability between 0 and 1. The loss increases as the predicted probability diverges from the actual label. The better is our prediction, the lower is the loss. \n",
    "\n",
    "It is expressed as: \n",
    "\n",
    "$$\n",
    "\\mathcal{D}(L, \\hat{L}) = - \\frac{1}{N} \\sum_{i=1}^n Y_i \\cdot \\log \\hat{Y}_i\n",
    "$$\n",
    "Here is an example with a good prediction and a bad prediction:\n",
    "\n",
    "![Alt text](image-10.png)\n",
    "\n",
    "Here is the PyTorch code:"
   ]
  },
  {
   "cell_type": "code",
   "execution_count": 7,
   "metadata": {},
   "outputs": [
    {
     "name": "stdout",
     "output_type": "stream",
     "text": [
      "0.41154685616493225\n",
      "2.3508665561676025\n",
      "tensor([2, 0, 1])\n",
      "tensor([0, 2, 2])\n"
     ]
    }
   ],
   "source": [
    "import torch \n",
    "import torch.nn as nn\n",
    "import numpy as np\n",
    "\n",
    "loss = nn.CrossEntropyLoss()\n",
    "\n",
    "## In PyTorch, the loss function allows for multiple samples --> we can take 3 possible classes\n",
    "y = torch.tensor([2, 0, 1]) ## 3 classes\n",
    "# size : n_samples x n_classes\n",
    "Y_pred_good = torch.tensor([ [0.5, 1.0, 2.0], [2.0, 0.7, 0.1], [0.7, 2.0, 0.6] ])\n",
    "Y_pred_bad = torch.tensor([ [3.0, 1.0, 0.8], [0.8, 0.7, 2.], [1.0, 0.2, 3.0] ])\n",
    "\n",
    "l1 = loss(Y_pred_good, y)\n",
    "l2 = loss(Y_pred_bad, y)\n",
    "\n",
    "print(l1.item())\n",
    "print(l2.item()) \n",
    "\n",
    "_, predictions1 = torch.max(Y_pred_good, 1)\n",
    "_, predictions2 = torch.max(Y_pred_bad, 1)\n",
    "\n",
    "print(predictions1)\n",
    "print(predictions2)"
   ]
  },
  {
   "cell_type": "markdown",
   "metadata": {},
   "source": [
    "![Alt text](image-11.png)"
   ]
  },
  {
   "cell_type": "markdown",
   "metadata": {},
   "source": [
    "Let's see how a typical neural network looks like. Here is a simple neural network in a **multi-class** classification proble. Here we want to find out what animal the image shows. \n",
    "\n",
    "We have an input layers, then some hidden layers and maybe some **activation function** in between. Then at the end we have a **linear layer** with one output for each class. Here we have two outputs and then at the very end we apply our softmax and get the probabilities. \n",
    "\n",
    "![Alt text](image-12.png)\n",
    "\n",
    "Let's see how the code looks like:"
   ]
  },
  {
   "cell_type": "code",
   "execution_count": 8,
   "metadata": {},
   "outputs": [],
   "source": [
    "import torch \n",
    "import torch.nn as nn\n",
    "\n",
    "## Multi-class problem\n",
    "\n",
    "class NeuralNet2(nn.Module):\n",
    "\n",
    "    def __init__(self, input_size, hidden_size, num_classes):\n",
    "        super(NeuralNet2, self).__init__()\n",
    "        self.linear1 = nn.Linear(input_size, hidden_size)\n",
    "        self.relu = nn.ReLU()\n",
    "        self.linear2 = nn.Linear(hidden_size, num_classes)\n",
    "\n",
    "    def forward(self, x):\n",
    "        out = self.linear1(x)\n",
    "        out = self.relu(out)\n",
    "        out = self.linear2(out)\n",
    "        # no softmax at the end because it is already coded in the cross-entropy loss function \n",
    "        return out\n",
    "\n",
    "model = NeuralNet2(input_size=28*28, hidden_size=5, num_classes=3)\n",
    "criterion = nn.CrossEntropyLoss() # applies softmax"
   ]
  },
  {
   "cell_type": "markdown",
   "metadata": {},
   "source": [
    "If we change slightly the architecture, we get:\n",
    "\n",
    "![Alt text](image-13.png)\n",
    "\n",
    "Notice that we use the sigmoid function here instead of the softmax !"
   ]
  },
  {
   "cell_type": "code",
   "execution_count": 9,
   "metadata": {},
   "outputs": [],
   "source": [
    "import torch \n",
    "import torch.nn as nn\n",
    "\n",
    "## Multi-class problem\n",
    "\n",
    "class NeuralNet2(nn.Module):\n",
    "\n",
    "    def __init__(self, input_size, hidden_size):\n",
    "        super(NeuralNet2, self).__init__()\n",
    "        self.linear1 = nn.Linear(input_size, hidden_size)\n",
    "        self.relu = nn.ReLU()\n",
    "        self.linear2 = nn.Linear(hidden_size, 1)\n",
    "\n",
    "    def forward(self, x): ## during this phase, we compute the prediction \n",
    "        out = self.linear1(x)\n",
    "        out = self.relu(out)\n",
    "        out = self.linear2(out)\n",
    "        # no softmax at the end because it is already coded in the cross-entropy loss function \n",
    "        y_pred = torch.sigmoid(out)\n",
    "        return y_pred\n",
    "\n",
    "model = NeuralNet2(input_size=28*28, hidden_size=5)\n",
    "criterion = nn.BCELoss() # applies softmax"
   ]
  },
  {
   "cell_type": "markdown",
   "metadata": {},
   "source": [
    "## 12. Activation function \n",
    "\n",
    "- What are activation functions?\n",
    "- Why they are used?\n",
    "- What different types of function there are\n",
    "- How do we incorporate them in our PyTorch model?\n",
    "\n",
    "\n",
    "**Activation function apply a non-linear transformation and decide whether a neuron should be activated or not**. Why do we use them? Why is a linear transformation not good enough? If we just apply linear transformations to our inputs, without activation functions, our network is just a stacked linear regression model. This linear model is not suited for a more complex task. With non-linear transformations in-between, our network can learn better and perform more complex tasks. After each layer, we typically want to apply this activation function so that our model can learn better.\n",
    "\n",
    "![Alt text](image-14.png)"
   ]
  },
  {
   "cell_type": "markdown",
   "metadata": {},
   "source": [
    "Here is a list of classic activation functions:\n",
    "- Step function: \n",
    "\n",
    "$$\n",
    "f(x) =  \\left\\{\n",
    "  \\begin{array}{ll}\n",
    "    1 & \\text{if   } x \\geq \\theta \\\\\n",
    "    0 \\text{        otherwise}\n",
    "  \\end{array}\n",
    "\\right.\n",
    "$$\n",
    "\n",
    "for a certain threshold $\\theta$. It is not used in practice. \n",
    "\n",
    "- Sigmoid:\n",
    "\n",
    "$$\n",
    "f(x) = \\frac{1}{1 + e^{-x}}\n",
    "$$ \n",
    "\n",
    "It is typically used in the last layer of a binary classification problem.\n",
    "\n",
    "- TanH - Hyperbolic tangent function:\n",
    "\n",
    "$$\n",
    "f(x) = \\frac{2}{1 + e^{-2x}} - 1\n",
    "$$ \n",
    "\n",
    "It is typically used in the hidden layers. It is a sort of scaled and shifted sigmoid function. It is a good choice in hidden layer that takes values in [$-1, 1$]\n",
    "\n",
    "- ReLU function: \n",
    "\n",
    "$$\n",
    "f(x) = max(0, x)\n",
    "$$ \n",
    "\n",
    "It is the most popular choice in most of the networks. It will output 0 for negative values and the output for positive value. It doesn't look that different from a linear transformation but in fact it is non-linear and actually the most popular choice. **It is a good choice for activation function in hidden layers when you don't know what to use**.\n",
    "\n",
    "- Leaky ReLU function: \n",
    "\n",
    "$$\n",
    "f(x) =  \\left\\{\n",
    "  \\begin{array}{ll}\n",
    "    x & \\text{if  } x \\geq 0 \\\\\n",
    "    a \\cdot x \\text{        otherwise}\n",
    "  \\end{array}\n",
    "\\right.\n",
    "$$\n",
    "\n",
    "It is an improved version of the ReLu function and it tries to solve the vanishing gradient problem. Here **a is typically very small**. With a normal ReLu, our negative values are 0 and thus the gradient layer in the backpropagation is also set to zero and this means that these weights will never be update so the neurones associated to this value won't learn anything. We also say that these neurons are dead. This is when you use the leaky ReLu. \n",
    "\n",
    "- Softmax: \n",
    "\n",
    "$$\n",
    "S(y_i) = \\frac{e^{y_i}}{\\sum_{i=1}^n e^{y_i}}\n",
    "$$\n",
    "\n",
    "This function squashes the output to be between 0 and 1 so that we get probabilities. It is a good choice in the last layer of a multi-class classification problem.\n",
    "\n",
    "Let's jump into the code now:"
   ]
  },
  {
   "cell_type": "code",
   "execution_count": 10,
   "metadata": {},
   "outputs": [],
   "source": [
    "## option 1: create nn Modules\n",
    "class NeuralNet2(nn.Module):\n",
    "\n",
    "    def __init__(self, input_size, hidden_size):\n",
    "        super(NeuralNet2, self).__init__()\n",
    "        self.linear1 = nn.Linear(input_size, hidden_size)\n",
    "        self.relu = nn.ReLU()\n",
    "        self.linear2 = nn.Linear(hidden_size, 1)\n",
    "        self.sigmoid = nn.Sigmoid()\n",
    "\n",
    "    def forward(self, x): ## during this phase, we compute the prediction \n",
    "        out = self.linear1(x)\n",
    "        out = self.relu(out)\n",
    "        out = self.linear2(out)\n",
    "        out = self.sigmoid(out)\n",
    "        return out\n",
    "\n",
    "## option 2 (use activation functions directly in forward pass):\n",
    "    \n",
    "class NeuralNet2(nn.Module):\n",
    "\n",
    "    ## we only define the linear layers in the init function\n",
    "    def __init__(self, input_size, hidden_size):\n",
    "        super(NeuralNet2, self).__init__()\n",
    "        self.linear1 = nn.Linear(input_size, hidden_size)\n",
    "        self.linear2 = nn.Linear(hidden_size, 1)\n",
    "\n",
    "    def forward(self, x): ## during this phase, we compute the prediction \n",
    "        out = torch.relu(self.linear1(x))\n",
    "        out = torch.sigmoid(self.linear2(out))\n",
    "        return out"
   ]
  },
  {
   "cell_type": "code",
   "execution_count": null,
   "metadata": {},
   "outputs": [],
   "source": []
  }
 ],
 "metadata": {
  "kernelspec": {
   "display_name": "pytorch",
   "language": "python",
   "name": "python3"
  },
  "language_info": {
   "codemirror_mode": {
    "name": "ipython",
    "version": 3
   },
   "file_extension": ".py",
   "mimetype": "text/x-python",
   "name": "python",
   "nbconvert_exporter": "python",
   "pygments_lexer": "ipython3",
   "version": "3.12.1"
  },
  "orig_nbformat": 4
 },
 "nbformat": 4,
 "nbformat_minor": 2
}
