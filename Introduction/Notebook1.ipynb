{
 "cells": [
  {
   "cell_type": "markdown",
   "metadata": {},
   "source": [
    "## 0. Quelques mots sur les environnements virtuels. \n",
    "\n",
    "**Qu'est-ce-qu'un environnement virtuel ?**\n",
    "\n",
    "\n",
    "* *environnement virtuel* = espace isolé et autonome dans lequel vous pouvez installer des bibliothèques, des packages et des dépendances logicielles spécifiques à un projet sans affecter le système global de votre machine --> utile pour résoudre les problèmes de gestion des dépendances et garantir une isolation entre différents projets.\n",
    "\n",
    "* *idée* = créer un espace de travail indépendant où vous pouvez installer les versions spécifiques de bibliothèques et d'outils nécessaires à votre projet, sans affecter le reste de votre système -> permet d'éviter les conflits de versions et assure que chaque projet peut fonctionner avec les dépendances exactes dont il a besoin.\n",
    "\n",
    "**Avantages de conda dans un environnement virtuel ?**\n",
    "\n",
    "1. *Gestion des dépendances* : Conda gère les dépendances de manière efficace, en installant les packages et en résolvant automatiquement les conflits. Cela simplifie la gestion des environnements et assure la compatibilité entre les packages.\n",
    "\n",
    "2. *Environnements isolés* : Conda permet de créer des environnements virtuels isolés les uns des autres, ce qui signifie que les dépendances d'un projet n'interféreront pas avec celles d'un autre projet.\n",
    "\n",
    "3. *Langages multiples* : Conda n'est pas spécifique à un langage de programmation particulier. Il peut être utilisé pour gérer les environnements virtuels pour des projets Python, R, Ruby, Lua, Scala, Java, JavaScript, C/C++, FORTRAN, et plus encore.\n",
    "\n",
    "**Voici les commandes utilisées pour créer l'environnement virtuel**\n",
    "\n",
    "- `git clone https://github.com/NailKhelifa/PyTorch_Personnal` : pour cloner ce repertoire\n",
    "\n",
    "- `cd PyTorch_Personnal` : pour se diriger vers ce repertoire\n",
    "\n",
    "- `conda create --name pytorch --file requirements.txt` : pour créer un environnement virtuel du nom de **pytorch**\n",
    "\n",
    "- `conda list --export > requirements.txt` : pour mettre à jour requirements.txt\n",
    "\n",
    "- `conda activate pytorch` : pour activer l'environnement virtuel \n",
    "\n",
    "- `conda list` : montre tous les packages et leur versions dans l'environnement virtuel"
   ]
  },
  {
   "cell_type": "code",
   "execution_count": 16,
   "metadata": {},
   "outputs": [],
   "source": [
    "import torch\n",
    "import numpy as np"
   ]
  },
  {
   "cell_type": "markdown",
   "metadata": {},
   "source": [
    "## 1. Les tenseurs sur PyTorch\n",
    "\n",
    "### 1.1. How to create a tensor \n",
    "* In PyTorch, everything is based on tensors operations. They are the equivalent arrays in NumPy. \n",
    "\n",
    "* Tensors can have multiple dimensions (1-D, 2-D, ...). To create an empty tensor use `torch.empty(size)` (for instance `torch.empty(1)` gives a scalar, `torch.empty(3)` gives a 1-D tensor with length 3, `torch.empty(2, 2, 2)` gives a 3-D tensor with length 2).\n",
    "\n",
    "* Randomly initialized tensors with `torch.rand(size)`, tensors with ones `torch.ones(size)`, tensors with zero `torch.zeros(size)`\n",
    "\n",
    "* We can specify the type of values in the tensor with `torch.rand(size, dtype=torch.int)`, `torch.rand(size, dtype=torch.float)`... \n",
    "\n",
    "* We can access the size of the tensor with `x.size` where `x` is a tensor\n",
    "\n",
    "* We can create a tensor using a list `x = torch.tensor([2.5, 3])`\n"
   ]
  },
  {
   "cell_type": "markdown",
   "metadata": {},
   "source": [
    "### 1.2. How to make operations on tensors"
   ]
  },
  {
   "cell_type": "markdown",
   "metadata": {},
   "source": [
    "* We have element-wise operations using `z = x + y` or `z = torch.add(x, y)`\n",
    "\n",
    "* Inplace operations "
   ]
  },
  {
   "cell_type": "code",
   "execution_count": 5,
   "metadata": {},
   "outputs": [
    {
     "data": {
      "text/plain": [
       "tensor([[0.4338, 0.5367],\n",
       "        [0.7397, 0.4796]])"
      ]
     },
     "execution_count": 5,
     "metadata": {},
     "output_type": "execute_result"
    }
   ],
   "source": [
    "x = torch.rand(2, 2)\n",
    "y = torch.rand(2, 2)\n",
    "\n",
    "## element-wise addiiton\n",
    "z = x + y\n",
    "z = torch.add(x, y)\n",
    "y.add_(x) # inplace\n",
    "\n",
    "## element-wise subtraction\n",
    "z = x - y\n",
    "z = torch.subtract(x, y)\n",
    "y.sub_(x) # inplace\n",
    "\n",
    "## element-wise multiplication\n",
    "z = x * y \n",
    "z = torch.mul(x, y)\n",
    "y.mul_(x) # inplace\n",
    "\n",
    "## element-wise division\n",
    "z = x / y\n",
    "z = torch.div(x, y)\n",
    "y.div_(x) # inplace\n"
   ]
  },
  {
   "cell_type": "markdown",
   "metadata": {},
   "source": [
    "There are also slicing operations as with lists and arrays in NumPy"
   ]
  },
  {
   "cell_type": "code",
   "execution_count": 7,
   "metadata": {},
   "outputs": [
    {
     "name": "stdout",
     "output_type": "stream",
     "text": [
      "tensor([0.4969, 0.1584, 0.7790, 0.9673, 0.0341])\n",
      "0.9651920795440674\n"
     ]
    }
   ],
   "source": [
    "x = torch.rand(5, 3)\n",
    "print(x[:, 0])\n",
    "print(x[1, 1].item()) ## prints the value. Beware -> works only if oyu have one element in your tensor"
   ]
  },
  {
   "cell_type": "markdown",
   "metadata": {},
   "source": [
    "We can reshape tensors"
   ]
  },
  {
   "cell_type": "code",
   "execution_count": null,
   "metadata": {},
   "outputs": [],
   "source": [
    "x = torch.rand(4, 4)\n",
    "y = x.view(16) ## it changes the dimensions --> the number of elements must be the same\n",
    "y = x.view(-1, 8) ## if we dont want to put the array in one dimension, we only specify the \n",
    "                  ## dimension of array and python will determine the rest (here 2 x 8)"
   ]
  },
  {
   "cell_type": "markdown",
   "metadata": {},
   "source": [
    "How to convert from NumPy array to torch.tensor and the other way around"
   ]
  },
  {
   "cell_type": "code",
   "execution_count": 21,
   "metadata": {},
   "outputs": [
    {
     "name": "stdout",
     "output_type": "stream",
     "text": [
      "tensor([2., 2., 2., 2., 2., 2.]) [2. 2. 2. 2. 2. 2.]\n",
      "[2. 2. 2. 2. 2.] tensor([2., 2., 2., 2., 2.], dtype=torch.float64)\n"
     ]
    }
   ],
   "source": [
    "## from torch to numpy\n",
    "\n",
    "a = torch.ones(6)\n",
    "b = a.numpy() ## be careful with the parenthesis\n",
    " \n",
    "## BE CAREFUL : if you work on the CPU and not the GPU, modifying b will also modify a because \n",
    "##              both objects share the same memory location\n",
    "\n",
    "a.add_(1)\n",
    "print(a, b) ## modifies both objects\n",
    "\n",
    "## from numpy to torch \n",
    "\n",
    "a = np.ones(5)\n",
    "b = torch.from_numpy(a)\n",
    "\n",
    "a += 1\n",
    "print(a, b)\n"
   ]
  },
  {
   "cell_type": "markdown",
   "metadata": {},
   "source": [
    "## 2. Gradient Calculation With Autograd"
   ]
  },
  {
   "cell_type": "markdown",
   "metadata": {},
   "source": [
    "We here focus on the autograd package in pytorch and how we can calculate gradients with it. Gradients are essential for our optimization problems and this is a very useful tool. \n",
    "\n",
    "Pytorch already includes all the tools required to compute gradients. \n",
    "\n",
    "Note the difference: \n",
    "\n",
    "* `torch.randn()`: generates random numbers from a uniform distribution between 0 (inclusive) and 1 (exclusive).\n",
    "\n",
    "* `torch.rand()`: generates random numbers from a uniform distribution between 0 (inclusive) and 1 (exclusive)."
   ]
  },
  {
   "cell_type": "code",
   "execution_count": 26,
   "metadata": {},
   "outputs": [],
   "source": [
    "x = torch.randn(3, requires_grad=True)\n",
    "\n",
    "y = x + 2 "
   ]
  },
  {
   "cell_type": "markdown",
   "metadata": {},
   "source": [
    "![Alt text](image.png)"
   ]
  },
  {
   "cell_type": "code",
   "execution_count": null,
   "metadata": {},
   "outputs": [],
   "source": []
  }
 ],
 "metadata": {
  "kernelspec": {
   "display_name": "pytorch",
   "language": "python",
   "name": "python3"
  },
  "language_info": {
   "codemirror_mode": {
    "name": "ipython",
    "version": 3
   },
   "file_extension": ".py",
   "mimetype": "text/x-python",
   "name": "python",
   "nbconvert_exporter": "python",
   "pygments_lexer": "ipython3",
   "version": "3.12.1"
  },
  "orig_nbformat": 4
 },
 "nbformat": 4,
 "nbformat_minor": 2
}
